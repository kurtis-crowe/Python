{
 "cells": [
  {
   "cell_type": "markdown",
   "metadata": {
    "id": "ggQQzKteAOO4"
   },
   "source": [
    "# Assignment 1: Decision Tree Grid Search\n",
    "## DTSC 680: Applied Machine Learning\n",
    "\n",
    "## Name: "
   ]
  },
  {
   "cell_type": "markdown",
   "metadata": {
    "id": "aFlbTHmzAOO7"
   },
   "source": [
    "## Directions\n",
    "\n",
    "The main purpose of this assignment is for you to gain experience creating and visualizing a Decision Tree along with sweeping a problem's parameter space - in this case by performing a grid search.  Doing so allows you to identify the optimal hyperparameter values to be used for training your model.\n",
    "\n",
    "## Preliminaries\n",
    "\n",
    "Let's import some common packages:"
   ]
  },
  {
   "cell_type": "code",
   "execution_count": 5,
   "metadata": {
    "id": "u_tJHgstAOO7"
   },
   "outputs": [],
   "source": [
    "import numpy as np\n",
    "from sklearn import datasets"
   ]
  },
  {
   "cell_type": "markdown",
   "metadata": {
    "id": "NipQfnqvAOO8"
   },
   "source": [
    "## Load and Split Iris Data Set\n",
    "\n",
    "Complete the following:\n",
    "\n",
    "1. Load the `Iris` data set by calling the [load_iris()](https://scikit-learn.org/stable/modules/generated/sklearn.datasets.load_iris.html) function of the `datasets` library from `sklearn` - name the dictionary that is returned `iris`. \n",
    "\n",
    "2. Call [train_test_split()](https://scikit-learn.org/stable/modules/generated/sklearn.model_selection.train_test_split.html) with a `test_size` of 40% and a `random_state` of `0`.  Save the output into `X_train`, `X_test`, `y_train`, and `y_test`, respectively. (Be sure to import the `train_test_split()` function first.)\n",
    "\n",
    "NOTE: you will need to use the ENTIRE dataset for this assignment, not just the first two columns."
   ]
  },
  {
   "cell_type": "code",
   "execution_count": 6,
   "metadata": {
    "id": "eQKmFdp3AOO9"
   },
   "outputs": [],
   "source": [
    "from sklearn.datasets import load_iris\n",
    "from sklearn.model_selection import train_test_split\n",
    "\n",
    "iris = load_iris()\n",
    "\n",
    "X_train, X_test, y_train, y_test = train_test_split(iris.data, iris.target, test_size=0.4, random_state=0)"
   ]
  },
  {
   "cell_type": "markdown",
   "metadata": {
    "id": "vwmhSZxTAOO9"
   },
   "source": [
    "## Create a Single Decision Tree\n",
    "\n",
    "Complete the following:\n",
    "\n",
    "(Cell 1:)\n",
    "1. Import the `DecisionTreeClassifier` class from the `sklearn.tree` library\n",
    "2. Create a DecisionTreeClassifier object called `tree_clf` with a `random_state` of `42`\n",
    "3. Fit the DecisionTreeClassifier object on the training data.\n",
    "\n",
    "(Cell 2:)\n",
    "\n",
    "4. Make a prediction on the test data, and name the predicted values output by the model `preds`.\n",
    "5. Compute the performance of the model by measuring the accuracy score on the test set.  You must import the [accuracy_score()](https://scikit-learn.org/stable/modules/generated/sklearn.metrics.accuracy_score.html) function from the `sklearn.metrics` library.  Name the accuracy score value you compute `acc_score`. \n",
    "6. Print the accuracy score to the screen.\n"
   ]
  },
  {
   "cell_type": "code",
   "execution_count": 7,
   "metadata": {
    "id": "M7GKIUrlAOO9"
   },
   "outputs": [
    {
     "data": {
      "text/html": [
       "<style>#sk-container-id-1 {color: black;background-color: white;}#sk-container-id-1 pre{padding: 0;}#sk-container-id-1 div.sk-toggleable {background-color: white;}#sk-container-id-1 label.sk-toggleable__label {cursor: pointer;display: block;width: 100%;margin-bottom: 0;padding: 0.3em;box-sizing: border-box;text-align: center;}#sk-container-id-1 label.sk-toggleable__label-arrow:before {content: \"▸\";float: left;margin-right: 0.25em;color: #696969;}#sk-container-id-1 label.sk-toggleable__label-arrow:hover:before {color: black;}#sk-container-id-1 div.sk-estimator:hover label.sk-toggleable__label-arrow:before {color: black;}#sk-container-id-1 div.sk-toggleable__content {max-height: 0;max-width: 0;overflow: hidden;text-align: left;background-color: #f0f8ff;}#sk-container-id-1 div.sk-toggleable__content pre {margin: 0.2em;color: black;border-radius: 0.25em;background-color: #f0f8ff;}#sk-container-id-1 input.sk-toggleable__control:checked~div.sk-toggleable__content {max-height: 200px;max-width: 100%;overflow: auto;}#sk-container-id-1 input.sk-toggleable__control:checked~label.sk-toggleable__label-arrow:before {content: \"▾\";}#sk-container-id-1 div.sk-estimator input.sk-toggleable__control:checked~label.sk-toggleable__label {background-color: #d4ebff;}#sk-container-id-1 div.sk-label input.sk-toggleable__control:checked~label.sk-toggleable__label {background-color: #d4ebff;}#sk-container-id-1 input.sk-hidden--visually {border: 0;clip: rect(1px 1px 1px 1px);clip: rect(1px, 1px, 1px, 1px);height: 1px;margin: -1px;overflow: hidden;padding: 0;position: absolute;width: 1px;}#sk-container-id-1 div.sk-estimator {font-family: monospace;background-color: #f0f8ff;border: 1px dotted black;border-radius: 0.25em;box-sizing: border-box;margin-bottom: 0.5em;}#sk-container-id-1 div.sk-estimator:hover {background-color: #d4ebff;}#sk-container-id-1 div.sk-parallel-item::after {content: \"\";width: 100%;border-bottom: 1px solid gray;flex-grow: 1;}#sk-container-id-1 div.sk-label:hover label.sk-toggleable__label {background-color: #d4ebff;}#sk-container-id-1 div.sk-serial::before {content: \"\";position: absolute;border-left: 1px solid gray;box-sizing: border-box;top: 0;bottom: 0;left: 50%;z-index: 0;}#sk-container-id-1 div.sk-serial {display: flex;flex-direction: column;align-items: center;background-color: white;padding-right: 0.2em;padding-left: 0.2em;position: relative;}#sk-container-id-1 div.sk-item {position: relative;z-index: 1;}#sk-container-id-1 div.sk-parallel {display: flex;align-items: stretch;justify-content: center;background-color: white;position: relative;}#sk-container-id-1 div.sk-item::before, #sk-container-id-1 div.sk-parallel-item::before {content: \"\";position: absolute;border-left: 1px solid gray;box-sizing: border-box;top: 0;bottom: 0;left: 50%;z-index: -1;}#sk-container-id-1 div.sk-parallel-item {display: flex;flex-direction: column;z-index: 1;position: relative;background-color: white;}#sk-container-id-1 div.sk-parallel-item:first-child::after {align-self: flex-end;width: 50%;}#sk-container-id-1 div.sk-parallel-item:last-child::after {align-self: flex-start;width: 50%;}#sk-container-id-1 div.sk-parallel-item:only-child::after {width: 0;}#sk-container-id-1 div.sk-dashed-wrapped {border: 1px dashed gray;margin: 0 0.4em 0.5em 0.4em;box-sizing: border-box;padding-bottom: 0.4em;background-color: white;}#sk-container-id-1 div.sk-label label {font-family: monospace;font-weight: bold;display: inline-block;line-height: 1.2em;}#sk-container-id-1 div.sk-label-container {text-align: center;}#sk-container-id-1 div.sk-container {/* jupyter's `normalize.less` sets `[hidden] { display: none; }` but bootstrap.min.css set `[hidden] { display: none !important; }` so we also need the `!important` here to be able to override the default hidden behavior on the sphinx rendered scikit-learn.org. See: https://github.com/scikit-learn/scikit-learn/issues/21755 */display: inline-block !important;position: relative;}#sk-container-id-1 div.sk-text-repr-fallback {display: none;}</style><div id=\"sk-container-id-1\" class=\"sk-top-container\"><div class=\"sk-text-repr-fallback\"><pre>DecisionTreeClassifier(random_state=42)</pre><b>In a Jupyter environment, please rerun this cell to show the HTML representation or trust the notebook. <br />On GitHub, the HTML representation is unable to render, please try loading this page with nbviewer.org.</b></div><div class=\"sk-container\" hidden><div class=\"sk-item\"><div class=\"sk-estimator sk-toggleable\"><input class=\"sk-toggleable__control sk-hidden--visually\" id=\"sk-estimator-id-1\" type=\"checkbox\" checked><label for=\"sk-estimator-id-1\" class=\"sk-toggleable__label sk-toggleable__label-arrow\">DecisionTreeClassifier</label><div class=\"sk-toggleable__content\"><pre>DecisionTreeClassifier(random_state=42)</pre></div></div></div></div></div>"
      ],
      "text/plain": [
       "DecisionTreeClassifier(random_state=42)"
      ]
     },
     "execution_count": 7,
     "metadata": {},
     "output_type": "execute_result"
    }
   ],
   "source": [
    "from sklearn.tree import DecisionTreeClassifier\n",
    "\n",
    "tree_clf = DecisionTreeClassifier(random_state = 42)\n",
    "tree_clf.fit(X_train, y_train)"
   ]
  },
  {
   "cell_type": "code",
   "execution_count": 9,
   "metadata": {
    "id": "t0q6oTAlAOO-"
   },
   "outputs": [
    {
     "name": "stdout",
     "output_type": "stream",
     "text": [
      "Accuracy=0.95\n"
     ]
    }
   ],
   "source": [
    "from sklearn.metrics import accuracy_score\n",
    "\n",
    "preds = tree_clf.predict(X_test)\n",
    "acc_score = accuracy_score(y_test, preds)\n",
    "\n",
    "print('Accuracy=%s' % (acc_score))"
   ]
  },
  {
   "cell_type": "markdown",
   "metadata": {
    "id": "7NI2edrjAOO-"
   },
   "source": [
    "## Perform Grid Search\n",
    "\n",
    "Complete the following:\n",
    "\n",
    "(Cell 1:)\n",
    "1. Import the `GridSearchCV` class from the `sklearn.model_selection` library.\n",
    "2. Create a dictionary called `param_grid` with three key-value pairs.  The keys are `max_depth`, `max_leaf_nodes` and `min_samples_split`, and their respective values are `[2,3,4,5,8,16,32]`, `list(range(2, 20, 1))` and `[2,3,4,5,8,12,16,20]`.\n",
    "3. Instantiate an object of the `GridSearchCV` class called `grid_search_cv`.  Pass the following as input to the constructor: \n",
    "    - The model to be used. Use a `DecisionTreeClassifier` with a `random_state` parameter of `42`.\n",
    "    - The paramter grid. \n",
    "    - The hyperparameter `verbose=1`. (Look this up.)\n",
    "    - The number of cross-folds. Specify `cv=3`.\n",
    "    \n",
    "    \n",
    "4. Call the `fit()` method to perform the grid search using 3-fold cross-validation.\n",
    "5. Print the best parameters identified by the grid search using the `best_params_` attribute of the GridSearchCV object.\n",
    "\n",
    "(Cell 2:)\n",
    "\n",
    "6. Compute the predicted values `y_pred` using the test set `X_test`.\n",
    "7. Calculate the accuracy, precision, and recall scores using the `accuracy_score()`, `precision_score()`, and `recall_score()` functions.  Call these `acc_score`, `prec_score`, and `recall_score`, respectively. Set the average parameter to `micro` when calculating precision and recall to account for multiple classes.\n",
    "8. Print all three scores to the screen."
   ]
  },
  {
   "cell_type": "code",
   "execution_count": 21,
   "metadata": {
    "id": "v0cw290-AOO-"
   },
   "outputs": [
    {
     "name": "stdout",
     "output_type": "stream",
     "text": [
      "Fitting 3 folds for each of 1008 candidates, totalling 3024 fits\n",
      "The best parameters are:  {'max_depth': 2, 'max_leaf_nodes': 3, 'min_samples_split': 2}\n"
     ]
    }
   ],
   "source": [
    "from sklearn.model_selection import GridSearchCV\n",
    "\n",
    "param_grid = {\n",
    "    'max_depth': [2, 3, 4, 5, 8, 16, 32],\n",
    "    'max_leaf_nodes': list(range(2, 20, 1)),\n",
    "    'min_samples_split': [2, 3, 4, 5, 8, 12, 16, 20]\n",
    "}\n",
    "\n",
    "grid_search_cv = GridSearchCV(estimator=DecisionTreeClassifier(random_state=42), param_grid=param_grid, cv=3, verbose=1)\n",
    "grid_search_cv.fit(X_train,y_train)\n",
    "\n",
    "print(\"The best parameters are: \", grid_search_cv.best_params_)"
   ]
  },
  {
   "cell_type": "code",
   "execution_count": 15,
   "metadata": {
    "id": "d8YNJbNDAOO_"
   },
   "outputs": [
    {
     "name": "stdout",
     "output_type": "stream",
     "text": [
      "Accuracy=0.8666666666666667\n",
      "Precision=0.8666666666666667\n",
      "Recall=0.8666666666666667\n"
     ]
    }
   ],
   "source": [
    "from sklearn.metrics import accuracy_score, precision_score, recall_score\n",
    "\n",
    "y_pred = grid_search_cv.predict(X_test)\n",
    "\n",
    "acc_score = accuracy_score(y_test, y_pred)\n",
    "prec_score = precision_score(y_test, y_pred, average='micro')\n",
    "recall_score = recall_score(y_test, y_pred, average='micro')\n",
    "\n",
    "print('Accuracy=%s' % (acc_score))\n",
    "print('Precision=%s' % (prec_score))\n",
    "print('Recall=%s' % (recall_score))"
   ]
  },
  {
   "cell_type": "markdown",
   "metadata": {
    "id": "dQHOwrJSAOO_"
   },
   "source": [
    "## Visualize Optimal Decision Tree as Text\n",
    "\n",
    "Instantiate a new `DecisionTreeClassifier` object, and use the `best_params_` attribute of the `grid_search_cv` object to specify the best `max_depth`, `max_leaf_nodes` and `min_samples_split` values calculated from the grid search along with a `random_state` of `42`.  Retrain the \"optimal\" (for the few parameters that we swept) decision tree.\n",
    "\n",
    "Next, use the [tree.export_text()](https://scikit-learn.org/stable/modules/generated/sklearn.tree.export_text.html) method to visualize the \"optimal\" decision tree.  This function takes a trained classifier as its first parameter, and a set of feature names as its second parameter (the feature names are included in the `iris` dictionary returned from the `load_iris()` function).  The result is a text based visualization of the decision tree.  Note that this method returns a string, so you'll want to `print()` the result to get it to look right."
   ]
  },
  {
   "cell_type": "code",
   "execution_count": 17,
   "metadata": {
    "id": "_FPRY8F4AOO_"
   },
   "outputs": [
    {
     "name": "stdout",
     "output_type": "stream",
     "text": [
      "|--- petal length (cm) <= 2.35\n",
      "|   |--- class: 0\n",
      "|--- petal length (cm) >  2.35\n",
      "|   |--- petal length (cm) <= 5.05\n",
      "|   |   |--- class: 1\n",
      "|   |--- petal length (cm) >  5.05\n",
      "|   |   |--- class: 2\n",
      "\n"
     ]
    }
   ],
   "source": [
    "from sklearn.tree import export_text\n",
    "\n",
    "best = grid_search_cv.best_params_\n",
    "\n",
    "tree_clf = DecisionTreeClassifier(max_depth=best['max_depth'], \n",
    "                                  max_leaf_nodes=best['max_leaf_nodes'], \n",
    "                                  min_samples_split=best['min_samples_split'], \n",
    "                                  random_state=42)\n",
    "\n",
    "tree_clf.fit(X_train, y_train)\n",
    "tree_text = export_text(tree_clf, feature_names=iris.feature_names)\n",
    "print(tree_text)"
   ]
  },
  {
   "cell_type": "markdown",
   "metadata": {
    "id": "CLo2IDw5AOO_"
   },
   "source": [
    "## Visualize Optimal Decision Tree as Image\n",
    "\n",
    "Use the `tree.plot_tree()` method to visualize the \"optimal\" decision tree, which takes a trained classifier as its only parameter and returns a graphical visualization of the decision tree. Use `filled=True` as an argument to the method to add color to the image."
   ]
  },
  {
   "cell_type": "code",
   "execution_count": 19,
   "metadata": {
    "id": "kjHZ5cGgAOPA"
   },
   "outputs": [
    {
     "data": {
      "text/plain": [
       "[Text(0.4, 0.8333333333333334, 'x[2] <= 2.35\\ngini = 0.663\\nsamples = 90\\nvalue = [34, 27, 29]'),\n",
       " Text(0.2, 0.5, 'gini = 0.0\\nsamples = 34\\nvalue = [34, 0, 0]'),\n",
       " Text(0.6, 0.5, 'x[2] <= 5.05\\ngini = 0.499\\nsamples = 56\\nvalue = [0, 27, 29]'),\n",
       " Text(0.4, 0.16666666666666666, 'gini = 0.128\\nsamples = 29\\nvalue = [0, 27, 2]'),\n",
       " Text(0.8, 0.16666666666666666, 'gini = 0.0\\nsamples = 27\\nvalue = [0, 0, 27]')]"
      ]
     },
     "execution_count": 19,
     "metadata": {},
     "output_type": "execute_result"
    },
    {
     "data": {
      "image/png": "[encoded data removed]",
      "text/plain": [
       "<Figure size 432x288 with 1 Axes>"
      ]
     },
     "metadata": {
      "needs_background": "light"
     },
     "output_type": "display_data"
    }
   ],
   "source": [
    "from sklearn import tree\n",
    "\n",
    "tree.plot_tree(tree_clf, filled=True)"
   ]
  },
  {
   "cell_type": "markdown",
   "metadata": {
    "id": "X-lt58-bAOPA"
   },
   "source": [
    "## Critical Analysis\n",
    "\n",
    "1. In your own words (a sentence or two) explain what setting the GridSearchCV hyperparameter `verbose` to `1` does. Please provide a citation. (A link to the website or the name of the book where you found this answer will suffice.)\n",
    "\n",
    "2. In your own words, describe or interpret the role of the gini score criterion in the decision tree algorithm. How does this compare to the entropy impurity measure? Finally, sklearn uses the CART (Classification and Regression Tree) algorithm to train Decision Trees. How does this algorithm determine the feature and threshold value to use for splitting at each step of the Decision Tree algorithm? It may be helpful to look at outside resources to help you answer these questions (The YouTube channel [\"StatQuest\"](https://youtu.be/7VeUPuFGJHk) has some excellent videos on Decision Trees for those of you that like visual explanations.) \n",
    "\n",
    "Make sure that you answer all the questions above. I am looking for **meaningful content** here that **goes into detail**. Don't just copy from the textbook or rush through answering this question."
   ]
  },
  {
   "cell_type": "markdown",
   "metadata": {
    "id": "O9U58_ECAOPA"
   },
   "source": [
    "1.When the verbose parameter in GridSearchCV is set to 1, it means that the grid search process wil display information about the computation time it took for each fold. This can be helpful for tracking grid search progress and understanding the time taken for the process. (https://medium.com/mlearning-ai/how-to-make-gridsearchcv-work-smarter-not-harder-138590b32e6)\n",
    "\n",
    "\n",
    "2a. The Gini score criterion in the decision tree algorithm is a way to measure how well a decision tree divides the data into different groups. A lower Gini score indicates that the groups are more pure and easier to distinguish from each other. The Gini score is computationally less expensive than the entropy impurity measure, making it faster to calculate. Although the results of the entropy impurity measure is slighty better, it is often so miniscule that it is not worth sacrificing computation time, thus the majority prefer the Gini score criterion.(https://blog.quantinsti.com/gini-index/)\n",
    "\n",
    "\n",
    "2b. The CART algorithm determines the feature and threshold value for splitting at each step by first analyzing all possible splits and selecting the one that best reduces the impurity of the subset. By choosing the purest split, we significantly reduce our chances of overfitting and create more homogeneous groups. For classification tasks, CART uses the Gini impurity (1 – (p₁)² – (p₂)²) as the splitting criterion. The lower the Gini impurity, the purer the subset is. For regression tasks, CART uses residual reduction as the splitting criterion. At each step of the algorithm, it evaluates all possible ways to split the data and selects the split that minimizes the average squared difference between the target values and the predicted values. This process is repeated recursively to create the tree, and it continues until a stopping rule is satisfied or no further splitting is available. \n",
    "\n",
    "A good example I like to use is predicting the winner of the Super Bowl. We start with our initial prediction based on historical data of the two teams playing. After the game is finished, we collect the residuals, which are the differences between the predicted outcome and the actual result. CART then looks at features, such as team statistics, player performance, and environmental factors, and finds the best way to split the data into subsets by selecting the ones with the least residual. For each subset created by the split, CART repeats the process, looking for additional splits that further reduce residuals, resulting in a tree structure where each leaf represents a subset of games with similar characteristics. (https://www.geeksforgeeks.org/cart-classification-and-regression-tree-in-machine-learning/)\n"
   ]
  },
  {
   "cell_type": "markdown",
   "metadata": {
    "id": "vHKUGGgVAOPB"
   },
   "source": [
    "## Ungraded Critical Thinking Question\n",
    "\n",
    "Compare the accuracy score from the first Decision Tree to the accuracy score after you performed the grid search. How does it differ? It is most likely that you will find the accuracy score has decreased. Is that what you had expected? We perform a round of grid searching in order to elucidate the optimal hyperparameter values. Why, then, has the accuracy score decreased? Most importantly, what caused this decrease in the accuracy score and why? Explain your answer."
   ]
  },
  {
   "cell_type": "markdown",
   "metadata": {
    "id": "CQEetLolAOPB"
   },
   "source": [
    "(Write analysis here.)"
   ]
  },
  {
   "cell_type": "markdown",
   "metadata": {},
   "source": [
    "After comparing the initial decision trees accuracy score to the one after performing the grid search, I noticed the accuracy score had decreased. I can honestly say I did not expect it to decrease, rather I expected the score to increase. It appears that the intial decision tree had been overfitting the data and after the grid search and finding our optimal parameters resulted in us having a more constrained model. "
   ]
  }
 ],
 "metadata": {
  "colab": {
   "provenance": []
  },
  "kernelspec": {
   "display_name": "Python 3 (ipykernel)",
   "language": "python",
   "name": "python3"
  },
  "language_info": {
   "codemirror_mode": {
    "name": "ipython",
    "version": 3
   },
   "file_extension": ".py",
   "mimetype": "text/x-python",
   "name": "python",
   "nbconvert_exporter": "python",
   "pygments_lexer": "ipython3",
   "version": "3.10.11"
  }
 },
 "nbformat": 4,
 "nbformat_minor": 1
}
